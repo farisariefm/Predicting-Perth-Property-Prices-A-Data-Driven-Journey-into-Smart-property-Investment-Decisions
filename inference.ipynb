{
 "cells": [
  {
   "cell_type": "markdown",
   "metadata": {},
   "source": [
    "# **Predicting Perth Property Prices: A Data-Driven Journey into Smart property Investment Decisions**\n",
    "\n",
    "*The project aims to develop a predictive model that provides estimates for property prices based on various influential factors. \n",
    "The insights from this project aim to facilitate informed decision-making in property investment and sales within the region.*\n",
    "\n",
    "*Prepared by :* **Faris Arief Mawardi**"
   ]
  },
  {
   "cell_type": "markdown",
   "metadata": {},
   "source": [
    "## **I. Introduction**\n",
    "\n",
    "==========================================================\n",
    "\n",
    "Dataset: perth_houses.csv\n",
    "\n",
    "Dataset Source: [Kaggle](https://www.kaggle.com/datasets/syuzai/perth-house-prices)\n",
    "\n",
    "This notebook is created to test the model's ability to predict property prices based on several dummy data from the features available in the constructed model.\n",
    "\n",
    "=========================================================="
   ]
  },
  {
   "cell_type": "markdown",
   "metadata": {},
   "source": [
    "# II. Import Library"
   ]
  },
  {
   "cell_type": "code",
   "execution_count": 1,
   "metadata": {},
   "outputs": [],
   "source": [
    "import pickle  # To load the constructed model\n",
    "import pandas as pd  # To execute several command in manipulating datas or cells"
   ]
  },
  {
   "cell_type": "markdown",
   "metadata": {},
   "source": [
    "# III. Model Loading"
   ]
  },
  {
   "cell_type": "code",
   "execution_count": 2,
   "metadata": {},
   "outputs": [],
   "source": [
    "# Loading the model\n",
    "with open('model.pkl', 'rb') as file_1:\n",
    "  model = pickle.load(file_1)"
   ]
  },
  {
   "cell_type": "markdown",
   "metadata": {},
   "source": [
    "# IV. Model Inference"
   ]
  },
  {
   "cell_type": "code",
   "execution_count": 3,
   "metadata": {},
   "outputs": [
    {
     "data": {
      "text/html": [
       "<div>\n",
       "<style scoped>\n",
       "    .dataframe tbody tr th:only-of-type {\n",
       "        vertical-align: middle;\n",
       "    }\n",
       "\n",
       "    .dataframe tbody tr th {\n",
       "        vertical-align: top;\n",
       "    }\n",
       "\n",
       "    .dataframe thead th {\n",
       "        text-align: right;\n",
       "    }\n",
       "</style>\n",
       "<table border=\"1\" class=\"dataframe\">\n",
       "  <thead>\n",
       "    <tr style=\"text-align: right;\">\n",
       "      <th></th>\n",
       "      <th>ADDRESS</th>\n",
       "      <th>SUBURB</th>\n",
       "      <th>BEDROOMS</th>\n",
       "      <th>BATHROOMS</th>\n",
       "      <th>GARAGE</th>\n",
       "      <th>LAND_AREA</th>\n",
       "      <th>FLOOR_AREA</th>\n",
       "      <th>BUILD_YEAR</th>\n",
       "      <th>CBD_DIST</th>\n",
       "      <th>NEAREST_STN</th>\n",
       "      <th>NEAREST_STN_DIST</th>\n",
       "      <th>DATE_SOLD</th>\n",
       "      <th>POSTCODE</th>\n",
       "      <th>LATITUDE</th>\n",
       "      <th>LONGITUDE</th>\n",
       "      <th>NEAREST_SCH</th>\n",
       "      <th>NEAREST_SCH_DIST</th>\n",
       "      <th>NEAREST_SCH_RANK</th>\n",
       "    </tr>\n",
       "  </thead>\n",
       "  <tbody>\n",
       "    <tr>\n",
       "      <th>0</th>\n",
       "      <td>1 Acorn Place</td>\n",
       "      <td>South Lake</td>\n",
       "      <td>3</td>\n",
       "      <td>3</td>\n",
       "      <td>1</td>\n",
       "      <td>250</td>\n",
       "      <td>120</td>\n",
       "      <td>1990</td>\n",
       "      <td>18300</td>\n",
       "      <td>Cockburn Central Station</td>\n",
       "      <td>1800</td>\n",
       "      <td>2018</td>\n",
       "      <td>6164</td>\n",
       "      <td>-32.115900</td>\n",
       "      <td>115.842450</td>\n",
       "      <td>LAKELAND SENIOR HIGH SCHOOL</td>\n",
       "      <td>0.828339</td>\n",
       "      <td>200.0</td>\n",
       "    </tr>\n",
       "    <tr>\n",
       "      <th>1</th>\n",
       "      <td>9E Margaret Street</td>\n",
       "      <td>Midland</td>\n",
       "      <td>2</td>\n",
       "      <td>2</td>\n",
       "      <td>1</td>\n",
       "      <td>246</td>\n",
       "      <td>85</td>\n",
       "      <td>1996</td>\n",
       "      <td>16700</td>\n",
       "      <td>Midland Station</td>\n",
       "      <td>1700</td>\n",
       "      <td>2016</td>\n",
       "      <td>6056</td>\n",
       "      <td>-31.882163</td>\n",
       "      <td>116.014755</td>\n",
       "      <td>LA SALLE COLLEGE</td>\n",
       "      <td>1.055564</td>\n",
       "      <td>53.0</td>\n",
       "    </tr>\n",
       "  </tbody>\n",
       "</table>\n",
       "</div>"
      ],
      "text/plain": [
       "              ADDRESS      SUBURB  BEDROOMS  BATHROOMS  GARAGE  LAND_AREA  \\\n",
       "0       1 Acorn Place  South Lake         3          3       1        250   \n",
       "1  9E Margaret Street     Midland         2          2       1        246   \n",
       "\n",
       "   FLOOR_AREA  BUILD_YEAR  CBD_DIST               NEAREST_STN  \\\n",
       "0         120        1990     18300  Cockburn Central Station   \n",
       "1          85        1996     16700           Midland Station   \n",
       "\n",
       "   NEAREST_STN_DIST  DATE_SOLD  POSTCODE   LATITUDE   LONGITUDE  \\\n",
       "0              1800       2018      6164 -32.115900  115.842450   \n",
       "1              1700       2016      6056 -31.882163  116.014755   \n",
       "\n",
       "                   NEAREST_SCH  NEAREST_SCH_DIST  NEAREST_SCH_RANK  \n",
       "0  LAKELAND SENIOR HIGH SCHOOL          0.828339             200.0  \n",
       "1             LA SALLE COLLEGE          1.055564              53.0  "
      ]
     },
     "execution_count": 3,
     "metadata": {},
     "output_type": "execute_result"
    }
   ],
   "source": [
    "# Generating new dummy datas\n",
    "data_inf = {\n",
    "    \"ADDRESS\": [\"1 Acorn Place\", \"9E Margaret Street\"],\n",
    "    \"SUBURB\": [\"South Lake\", \"Midland\"],\n",
    "    \"BEDROOMS\": [3, 2],\n",
    "    \"BATHROOMS\": [3, 2],\n",
    "    \"GARAGE\": [1, 1],\n",
    "    \"LAND_AREA\": [250, 246],\n",
    "    \"FLOOR_AREA\": [120, 85],\n",
    "    \"BUILD_YEAR\": [1990, 1996],\n",
    "    \"CBD_DIST\": [18300, 16700],\n",
    "    \"NEAREST_STN\": [\"Cockburn Central Station\", \"Midland Station\"],\n",
    "    \"NEAREST_STN_DIST\": [1800, 1700],\n",
    "    \"DATE_SOLD\": [2018, 2016],\n",
    "    \"POSTCODE\": [6164, 6056],\n",
    "    \"LATITUDE\": [-32.115900, -31.882163],\n",
    "    \"LONGITUDE\": [115.842450, 116.014755],\n",
    "    \"NEAREST_SCH\": [\"LAKELAND SENIOR HIGH SCHOOL\", \"LA SALLE COLLEGE\"],\n",
    "    \"NEAREST_SCH_DIST\": [0.828339, 1.055564\t],\n",
    "    \"NEAREST_SCH_RANK\": [200, 53.0],\n",
    "}\n",
    "\n",
    "# Generating a new dataframe consists of the dummy datas\n",
    "data_inf = pd.DataFrame(data_inf)\n",
    "\n",
    "# Print the dataframe\n",
    "data_inf"
   ]
  },
  {
   "cell_type": "markdown",
   "metadata": {},
   "source": [
    "# V. Predicting The Results"
   ]
  },
  {
   "cell_type": "code",
   "execution_count": 4,
   "metadata": {},
   "outputs": [
    {
     "data": {
      "text/plain": [
       "array([427250.        , 338642.85714286])"
      ]
     },
     "execution_count": 4,
     "metadata": {},
     "output_type": "execute_result"
    }
   ],
   "source": [
    "# Predict\n",
    "y_inf_pred = model.predict(data_inf)\n",
    "y_inf_pred"
   ]
  },
  {
   "cell_type": "markdown",
   "metadata": {},
   "source": [
    "# VI. Conclusions"
   ]
  },
  {
   "cell_type": "markdown",
   "metadata": {},
   "source": [
    "**Conclusion:**\n",
    "\n",
    "Based on the conducted inferences, the created model can predict property prices reasonably well using the provided dummy data. Below are the property price predictions generated by the constructed model:\n",
    "\n",
    "- Prediction for the First Data: $427,250\n",
    "- Prediction for the Second Data: $338,642"
   ]
  }
 ],
 "metadata": {
  "kernelspec": {
   "display_name": "Python 3",
   "language": "python",
   "name": "python3"
  },
  "language_info": {
   "codemirror_mode": {
    "name": "ipython",
    "version": 3
   },
   "file_extension": ".py",
   "mimetype": "text/x-python",
   "name": "python",
   "nbconvert_exporter": "python",
   "pygments_lexer": "ipython3",
   "version": "3.11.7"
  }
 },
 "nbformat": 4,
 "nbformat_minor": 2
}
